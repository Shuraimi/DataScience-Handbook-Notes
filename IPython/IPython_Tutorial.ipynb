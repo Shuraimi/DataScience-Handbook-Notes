{
  "nbformat": 4,
  "nbformat_minor": 0,
  "metadata": {
    "colab": {
      "provenance": [],
      "authorship_tag": "ABX9TyMXGOJxwsuuIPiE9eFsHZQ5",
      "include_colab_link": true
    },
    "kernelspec": {
      "name": "python3",
      "display_name": "Python 3"
    },
    "language_info": {
      "name": "python"
    }
  },
  "cells": [
    {
      "cell_type": "markdown",
      "metadata": {
        "id": "view-in-github",
        "colab_type": "text"
      },
      "source": [
        "<a href=\"https://colab.research.google.com/github/Shuraimi/DataScience-Handbook-Notes/blob/main/IPython_Tutorial.ipynb\" target=\"_parent\"><img src=\"https://colab.research.google.com/assets/colab-badge.svg\" alt=\"Open In Colab\"/></a>"
      ]
    },
    {
      "cell_type": "markdown",
      "source": [
        "# IPython Tutorial"
      ],
      "metadata": {
        "id": "5K2q_VBphw1W"
      }
    },
    {
      "cell_type": "markdown",
      "source": [
        "## Introduction"
      ],
      "metadata": {
        "id": "Ad5q8mJukqIN"
      }
    },
    {
      "cell_type": "markdown",
      "source": [
        "IPython stands for Interactive Python and is also called as Interactive Control Panel"
      ],
      "metadata": {
        "id": "jDhihkS5ks1q"
      }
    },
    {
      "cell_type": "markdown",
      "source": [
        "## Shell or Notebook"
      ],
      "metadata": {
        "id": "6fce4px9lDFy"
      }
    },
    {
      "cell_type": "markdown",
      "source": [
        "There are primarily 2 ways of using IPython:-\n",
        "1. IPython shell\n",
        "2. IPython notebook also called as Jupyter Notebook"
      ],
      "metadata": {
        "id": "8udYjsUylJ6M"
      }
    },
    {
      "cell_type": "markdown",
      "source": [
        "### Launching IPython Shell"
      ],
      "metadata": {
        "id": "7WBf2s4vlbQQ"
      }
    },
    {
      "cell_type": "markdown",
      "source": [
        "We can launch the IPython shell by typing `ipython` in command prompt"
      ],
      "metadata": {
        "id": "0PM4jB2FlfVZ"
      }
    },
    {
      "cell_type": "markdown",
      "source": [
        "### Launching Jupyter Notebook"
      ],
      "metadata": {
        "id": "P8gkSGXMl0p8"
      }
    },
    {
      "cell_type": "markdown",
      "source": [
        "We can launch the IPython shell by typing `jupyter notebook` in command prompt"
      ],
      "metadata": {
        "id": "ILVqqyXal7Fo"
      }
    },
    {
      "cell_type": "markdown",
      "source": [
        "## IPython 's tools to access help and documentation\n"
      ],
      "metadata": {
        "id": "TwKmdleSmKD9"
      }
    },
    {
      "cell_type": "markdown",
      "source": [
        "There are namely:-\n",
        "1. ? to explore documentation\n",
        "2. ?? to explore source code\n",
        "3. TAB for autocompletion"
      ],
      "metadata": {
        "id": "nXH5ETO2mLLh"
      }
    },
    {
      "cell_type": "markdown",
      "source": [
        "### 1. ? to explore documentation"
      ],
      "metadata": {
        "id": "srd8m84TmN6K"
      }
    },
    {
      "cell_type": "markdown",
      "source": [
        "The `?` character is used to explore the documentation and other relevant information of object, object methods, methods or even user-defined methods which have a docstring specifying the methods use.\n",
        "<br>\n",
        "This is a shorthand for the built-in python function called `help()` which performs the same function.\n",
        "\n"
      ],
      "metadata": {
        "id": "pTa06ASXmdeF"
      }
    },
    {
      "cell_type": "markdown",
      "source": [
        "Examples"
      ],
      "metadata": {
        "id": "LXNhO29Mndkg"
      }
    },
    {
      "cell_type": "code",
      "execution_count": null,
      "metadata": {
        "id": "A6a0nYMVg8CY"
      },
      "outputs": [],
      "source": [
        "lis=[1,3,5,7]"
      ]
    },
    {
      "cell_type": "code",
      "source": [
        "#to get documentation of list object\n",
        "lis?"
      ],
      "metadata": {
        "id": "2PYxOhKhnc0O"
      },
      "execution_count": null,
      "outputs": []
    },
    {
      "cell_type": "code",
      "source": [
        "#this gives the documentation of the len()\n",
        "len?"
      ],
      "metadata": {
        "id": "ufxWr18JnizG"
      },
      "execution_count": null,
      "outputs": []
    },
    {
      "cell_type": "code",
      "source": [
        "#to get documentation of insert method in list\n",
        "lis.insert?"
      ],
      "metadata": {
        "id": "bnJ_DxIKnnpO"
      },
      "execution_count": null,
      "outputs": []
    },
    {
      "cell_type": "markdown",
      "source": [
        "Just like these examples above, you can use `?` character to access documentation easily."
      ],
      "metadata": {
        "id": "am9S6N8eOaH5"
      }
    },
    {
      "cell_type": "markdown",
      "source": [
        "### 2. ?? to access source code"
      ],
      "metadata": {
        "id": "I5hxvFuWOoqy"
      }
    },
    {
      "cell_type": "markdown",
      "source": [
        "We can use the ?? character to access source code of any function, predefined or user-defined."
      ],
      "metadata": {
        "id": "DmZb_KkGOvv7"
      }
    },
    {
      "cell_type": "markdown",
      "source": [
        "Let's define a function named square and include a docstring to it.\n",
        "Later we'll use ?? to get it's source code."
      ],
      "metadata": {
        "id": "bX86vStbfWL7"
      }
    },
    {
      "cell_type": "code",
      "source": [
        "def square(x):\n",
        "    \"\"\"This function returns the square of the given number.\"\"\"\n",
        "    return x**2"
      ],
      "metadata": {
        "id": "q4_XDyBvfILq"
      },
      "execution_count": null,
      "outputs": []
    },
    {
      "cell_type": "code",
      "source": [
        "square??"
      ],
      "metadata": {
        "id": "Km9EGvg8fo1T"
      },
      "execution_count": null,
      "outputs": []
    },
    {
      "cell_type": "markdown",
      "source": [
        "In some cases, ?? character gives the documentation instead of source code.\n",
        "\n",
        "Therefore using ?/?? gives us a useful way to check what a function does."
      ],
      "metadata": {
        "id": "32nkbHDPPBrM"
      }
    },
    {
      "cell_type": "code",
      "source": [
        "#here we get the documentation instead of the source code of this method\n",
        "lis.insert??"
      ],
      "metadata": {
        "id": "4biNTK-duaQ6"
      },
      "execution_count": null,
      "outputs": []
    },
    {
      "cell_type": "markdown",
      "source": [
        "### Tab for autocompletion"
      ],
      "metadata": {
        "id": "HzWuF-f3f07e"
      }
    },
    {
      "cell_type": "markdown",
      "source": [
        "#### 1. Tab completion of object contents"
      ],
      "metadata": {
        "id": "_iuWva4hgNcF"
      }
    },
    {
      "cell_type": "markdown",
      "source": [
        "lis.TAB lists all the attributes related to that object.\n",
        "\n",
        "You can narrow down the range of attributes by specifying the first few characters of the attributes.\n",
        "\n",
        "If there's only a single option,then TAB will autocomplete the line of code."
      ],
      "metadata": {
        "id": "0F91cmbTgZ_c"
      }
    },
    {
      "cell_type": "code",
      "source": [
        "#press tab after the .\n",
        "lis."
      ],
      "metadata": {
        "id": "j6dYeoL8O-rs",
        "colab": {
          "base_uri": "https://localhost:8080/",
          "height": 159
        },
        "outputId": "356858b1-1243-4e52-f4e2-4d7c280f7dc7"
      },
      "execution_count": null,
      "outputs": [
        {
          "output_type": "error",
          "ename": "SyntaxError",
          "evalue": "ignored",
          "traceback": [
            "\u001b[0;36m  File \u001b[0;32m\"<ipython-input-9-4cef1274f71c>\"\u001b[0;36m, line \u001b[0;32m2\u001b[0m\n\u001b[0;31m    lis.\u001b[0m\n\u001b[0m        ^\u001b[0m\n\u001b[0;31mSyntaxError\u001b[0m\u001b[0;31m:\u001b[0m invalid syntax\n"
          ]
        }
      ]
    },
    {
      "cell_type": "code",
      "source": [
        "#press TAB to display all methods with the initial letter i\n",
        "lis.i"
      ],
      "metadata": {
        "id": "6emYaPjihsQz"
      },
      "execution_count": null,
      "outputs": []
    },
    {
      "cell_type": "code",
      "source": [
        "#press TAB after inse to autocomplete\n",
        "lis.inse"
      ],
      "metadata": {
        "id": "uOzb7JAFh4dU"
      },
      "execution_count": null,
      "outputs": []
    },
    {
      "cell_type": "markdown",
      "source": [
        "#### 2. When importing"
      ],
      "metadata": {
        "id": "UiZ1JfPUiHNS"
      }
    },
    {
      "cell_type": "markdown",
      "source": [
        "We can use TAB to get the list of all available modules in the package."
      ],
      "metadata": {
        "id": "ScP-BPfOiOKv"
      }
    },
    {
      "cell_type": "code",
      "source": [
        "#press TAB after import\n",
        "from itertools import"
      ],
      "metadata": {
        "id": "_FHBy3rkiA3b"
      },
      "execution_count": null,
      "outputs": []
    },
    {
      "cell_type": "code",
      "source": [
        "#press TAB after co to get list of all packages in itertools that start with co\n",
        "from itertools import co"
      ],
      "metadata": {
        "id": "Dtkn2-ZBi93M"
      },
      "execution_count": null,
      "outputs": []
    },
    {
      "cell_type": "code",
      "source": [
        "#to import libraries that are installed on your system, press TAB after import\n",
        "import"
      ],
      "metadata": {
        "id": "aV7zLjEQjYby"
      },
      "execution_count": null,
      "outputs": []
    },
    {
      "cell_type": "markdown",
      "source": [
        "#### 3. Wildcard matching"
      ],
      "metadata": {
        "id": "Qd6gTj1QjpQd"
      }
    },
    {
      "cell_type": "markdown",
      "source": [
        "Wildcard matching is flexible to find a particular command"
      ],
      "metadata": {
        "id": "-q7MoC8Ajsb2"
      }
    },
    {
      "cell_type": "markdown",
      "source": [
        "To list every object in the namespace that ends with Warning"
      ],
      "metadata": {
        "id": "GneQ8tXfjyqe"
      }
    },
    {
      "cell_type": "code",
      "source": [
        "*Warning?"
      ],
      "metadata": {
        "id": "D6b0UVLmj71w"
      },
      "execution_count": null,
      "outputs": []
    },
    {
      "cell_type": "markdown",
      "source": [
        "This * matches any string including empty string."
      ],
      "metadata": {
        "id": "GD6zhHAEj_lP"
      }
    },
    {
      "cell_type": "markdown",
      "source": [
        "Similarly, if you're looking for a string method which contains find somewhere in it"
      ],
      "metadata": {
        "id": "-HUlD-XmkPny"
      }
    },
    {
      "cell_type": "code",
      "source": [
        "str.*find*?"
      ],
      "metadata": {
        "id": "uvS_22SFkWdH"
      },
      "execution_count": null,
      "outputs": []
    },
    {
      "cell_type": "markdown",
      "source": [
        "Add few more points and explanation."
      ],
      "metadata": {
        "id": "dxAdNLnNkpXE"
      }
    },
    {
      "cell_type": "markdown",
      "source": [
        "### IPython Magic commands 🪄"
      ],
      "metadata": {
        "id": "O_sBuZo1k08l"
      }
    },
    {
      "cell_type": "markdown",
      "source": [
        "Magic commands are prefixed with the % character.\n",
        "\n",
        "These are designed succinctly solve various common problems in data analysis."
      ],
      "metadata": {
        "id": "Gc96ZR0hk7w1"
      }
    },
    {
      "cell_type": "markdown",
      "source": [
        "Magic🪄 commands come in two flavours:-\n",
        "\n",
        "1. Line magic - denoted by a single % character and operate on a single line of input.\n",
        "2. Cell magic - denoted by double %% character and operate on multiple lines of input."
      ],
      "metadata": {
        "id": "VB-Yvch5lPf9"
      }
    },
    {
      "cell_type": "markdown",
      "source": [
        "#### %paste\n",
        "When you copy and paste a block of code from the website, the indentation and function markers give an error when we paste.\n",
        "\n",
        "We use this to overcome this error.\n",
        "\n",
        "This command enters and executes the code."
      ],
      "metadata": {
        "id": "GmjfhZXHmMDU"
      }
    },
    {
      "cell_type": "markdown",
      "source": [
        "Syntax:-\n",
        "\n",
        "Write %paste and paste the block of code below this command."
      ],
      "metadata": {
        "id": "Bg68XMY1nD-B"
      }
    },
    {
      "cell_type": "markdown",
      "source": [
        "#### %cpaste\n",
        "\n",
        "This command opens up an interactive multiline prompt where you can paste multiple blocks of code to execute in a batch"
      ],
      "metadata": {
        "id": "XrjXzYCPnVVB"
      }
    },
    {
      "cell_type": "markdown",
      "source": [
        "Syntax:-\n",
        "%cpaste"
      ],
      "metadata": {
        "id": "u0LHNAj6oQ6c"
      }
    },
    {
      "cell_type": "markdown",
      "source": [
        "#### Running extern code %run\n",
        "\n",
        "As you advance, you may find yourself to working on IPython interpreter and execute code in a code editor.\n",
        "\n",
        "Instead of opening a new window, we can run the code in the same IPython session with the following code"
      ],
      "metadata": {
        "id": "rjb0TOUsoP3r"
      }
    },
    {
      "cell_type": "markdown",
      "source": [
        "Syntax:-\n",
        "%run filename\n",
        "\n",
        "Functions used in this field can also be used in your IPython session."
      ],
      "metadata": {
        "id": "4RiqNd47pBU5"
      }
    },
    {
      "cell_type": "markdown",
      "source": [
        "#### Timing code execution %timeit\n",
        "\n",
        "This magic command is used to automatically measure the time taken by a single line of code.\n",
        "\n",
        "The benefit of this command is that it runs multiple batches to a single line of code to give more robust results.\n",
        "\n",
        "Prefixing % before %timeit will turn it into a cell magic"
      ],
      "metadata": {
        "id": "1dFzjN1Cps4X"
      }
    },
    {
      "cell_type": "markdown",
      "source": [
        "Syntax:-\n",
        "%timeit followed by a single line of code."
      ],
      "metadata": {
        "id": "CRjR167wqk9k"
      }
    },
    {
      "cell_type": "markdown",
      "source": [
        "### Help on Magic functions\n",
        "\n",
        "To access the documentation of any magic function, type\n",
        "\n",
        "%magic_function_name?\n",
        "\n",
        "For example:-"
      ],
      "metadata": {
        "id": "JlO_Jm0NqxuO"
      }
    },
    {
      "cell_type": "code",
      "source": [
        "%timeit?"
      ],
      "metadata": {
        "id": "SeP07ubCrA2R"
      },
      "execution_count": null,
      "outputs": []
    },
    {
      "cell_type": "code",
      "source": [
        "#to get the general description of all the available magic functions\n",
        "%magic"
      ],
      "metadata": {
        "id": "onIxVnGgrKA2"
      },
      "execution_count": null,
      "outputs": []
    },
    {
      "cell_type": "code",
      "source": [
        "#to get list of all the magic functions\n",
        "%lsmagic"
      ],
      "metadata": {
        "id": "pES645Zora7p"
      },
      "execution_count": null,
      "outputs": []
    },
    {
      "cell_type": "markdown",
      "source": [
        "### Pythons IN and OUT objects"
      ],
      "metadata": {
        "id": "niA5yDYMrI-j"
      }
    },
    {
      "cell_type": "markdown",
      "source": [
        "The python IN OUT objects are variables created by python and are automatically updated to reflect their history."
      ],
      "metadata": {
        "id": "Z81uI-eEsR1S"
      }
    },
    {
      "cell_type": "code",
      "source": [
        "print(IN)"
      ],
      "metadata": {
        "colab": {
          "base_uri": "https://localhost:8080/",
          "height": 245
        },
        "id": "y3MqeqCu_8nO",
        "outputId": "c4f6d091-0618-4a46-f0ab-d0e909d388d5"
      },
      "execution_count": null,
      "outputs": [
        {
          "output_type": "error",
          "ename": "NameError",
          "evalue": "ignored",
          "traceback": [
            "\u001b[0;31m---------------------------------------------------------------------------\u001b[0m",
            "\u001b[0;31mNameError\u001b[0m                                 Traceback (most recent call last)",
            "\u001b[0;32m<ipython-input-10-d69c8cedb135>\u001b[0m in \u001b[0;36m<cell line: 1>\u001b[0;34m()\u001b[0m\n\u001b[0;32m----> 1\u001b[0;31m \u001b[0mprint\u001b[0m\u001b[0;34m(\u001b[0m\u001b[0mIN\u001b[0m\u001b[0;34m)\u001b[0m\u001b[0;34m\u001b[0m\u001b[0;34m\u001b[0m\u001b[0m\n\u001b[0m",
            "\u001b[0;31mNameError\u001b[0m: name 'IN' is not defined"
          ]
        }
      ]
    },
    {
      "cell_type": "markdown",
      "source": [
        "The IN object is a list which stores all commands in order."
      ],
      "metadata": {
        "id": "s5mSohsDA0az"
      }
    },
    {
      "cell_type": "markdown",
      "source": [
        "### Underscore shortcuts and previous outputs"
      ],
      "metadata": {
        "id": "hBmExkAHBNc4"
      }
    },
    {
      "cell_type": "markdown",
      "source": [
        "We can refer to the last output by using the single Underscore because the single Underscore is updated with the latest output."
      ],
      "metadata": {
        "id": "yyH_tG38BVzX"
      }
    },
    {
      "cell_type": "code",
      "source": [
        "square(8)"
      ],
      "metadata": {
        "colab": {
          "base_uri": "https://localhost:8080/"
        },
        "id": "qbX3ZIC4BIyP",
        "outputId": "1e648359-37d1-4fc0-f987-0ab9482ce262"
      },
      "execution_count": null,
      "outputs": [
        {
          "output_type": "execute_result",
          "data": {
            "text/plain": [
              "64"
            ]
          },
          "metadata": {},
          "execution_count": 14
        }
      ]
    },
    {
      "cell_type": "code",
      "source": [
        "print(_)"
      ],
      "metadata": {
        "colab": {
          "base_uri": "https://localhost:8080/"
        },
        "id": "I2nSYv9QA7Y5",
        "outputId": "21b0c727-360d-44bf-9d25-f44a0ae0df5a"
      },
      "execution_count": null,
      "outputs": [
        {
          "output_type": "stream",
          "name": "stdout",
          "text": [
            "64\n"
          ]
        }
      ]
    },
    {
      "cell_type": "code",
      "source": [
        "square(9)"
      ],
      "metadata": {
        "colab": {
          "base_uri": "https://localhost:8080/"
        },
        "id": "VGidD7XeBmnu",
        "outputId": "99229b66-9dcb-4cf9-911e-6fadebb56ae5"
      },
      "execution_count": null,
      "outputs": [
        {
          "output_type": "execute_result",
          "data": {
            "text/plain": [
              "81"
            ]
          },
          "metadata": {},
          "execution_count": 17
        }
      ]
    },
    {
      "cell_type": "code",
      "source": [
        "square(12)"
      ],
      "metadata": {
        "colab": {
          "base_uri": "https://localhost:8080/"
        },
        "id": "EP9u5DJzBoVP",
        "outputId": "63b45dc2-9727-459f-ca37-110dcde12bc6"
      },
      "execution_count": null,
      "outputs": [
        {
          "output_type": "execute_result",
          "data": {
            "text/plain": [
              "144"
            ]
          },
          "metadata": {},
          "execution_count": 18
        }
      ]
    },
    {
      "cell_type": "markdown",
      "source": [
        "We can access the second to last output using double Underscore"
      ],
      "metadata": {
        "id": "P7GdvKjABvee"
      }
    },
    {
      "cell_type": "code",
      "source": [
        "print(__)"
      ],
      "metadata": {
        "colab": {
          "base_uri": "https://localhost:8080/"
        },
        "id": "aD17MpycB0Ea",
        "outputId": "356f112d-a82e-4077-d114-228a7209c7e9"
      },
      "execution_count": null,
      "outputs": [
        {
          "output_type": "stream",
          "name": "stdout",
          "text": [
            "81\n"
          ]
        }
      ]
    },
    {
      "cell_type": "markdown",
      "source": [
        "Similarly we can access the third to last output using the three underscores"
      ],
      "metadata": {
        "id": "ZtjpKHVzB2vh"
      }
    },
    {
      "cell_type": "code",
      "source": [
        "print(___)"
      ],
      "metadata": {
        "colab": {
          "base_uri": "https://localhost:8080/"
        },
        "id": "lGeqBuUNB-46",
        "outputId": "d996db05-4bd4-41cc-c149-656c186f3111"
      },
      "execution_count": null,
      "outputs": [
        {
          "output_type": "stream",
          "name": "stdout",
          "text": [
            "64\n"
          ]
        }
      ]
    },
    {
      "cell_type": "markdown",
      "source": [
        "More than 3 underscores are difficult for python to understand therefore we use ..."
      ],
      "metadata": {
        "id": "YtYUTIg1CEV6"
      }
    },
    {
      "cell_type": "markdown",
      "source": [
        "### Suppressing outputs"
      ],
      "metadata": {
        "id": "_G_FofnDCMR5"
      }
    },
    {
      "cell_type": "markdown",
      "source": [
        "Specifying a semicolon at the end of the line of code suppresses it's output from being displayed."
      ],
      "metadata": {
        "id": "ydG0oEfOCefR"
      }
    },
    {
      "cell_type": "code",
      "source": [
        "square(4);"
      ],
      "metadata": {
        "id": "kuPjF14LCpsv"
      },
      "execution_count": null,
      "outputs": []
    },
    {
      "cell_type": "markdown",
      "source": [
        "To access set of inputs"
      ],
      "metadata": {
        "id": "Dwa3UgNgC1Az"
      }
    },
    {
      "cell_type": "code",
      "source": [
        "%history -n 1-4"
      ],
      "metadata": {
        "colab": {
          "base_uri": "https://localhost:8080/"
        },
        "id": "ibJJONaOCunq",
        "outputId": "559f72b5-a1e2-4ad2-fa4a-3df3d531682a"
      },
      "execution_count": null,
      "outputs": [
        {
          "output_type": "stream",
          "name": "stdout",
          "text": [
            "   1: print(IN)\n",
            "   2: lis=[1,3,5,7]\n",
            "   3:\n",
            "#to get documentation of list object\n",
            "lis?\n",
            "   4:\n",
            "#this gives the documentation of the len()\n",
            "len?\n"
          ]
        }
      ]
    }
  ]
}
