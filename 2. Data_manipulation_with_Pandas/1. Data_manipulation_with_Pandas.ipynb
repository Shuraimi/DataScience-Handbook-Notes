{
  "nbformat": 4,
  "nbformat_minor": 0,
  "metadata": {
    "colab": {
      "provenance": [],
      "authorship_tag": "ABX9TyPUWAGjetiFrt0JG0fjAE/Q",
      "include_colab_link": true
    },
    "kernelspec": {
      "name": "python3",
      "display_name": "Python 3"
    },
    "language_info": {
      "name": "python"
    }
  },
  "cells": [
    {
      "cell_type": "markdown",
      "metadata": {
        "id": "view-in-github",
        "colab_type": "text"
      },
      "source": [
        "<a href=\"https://colab.research.google.com/github/Shuraimi/DataScience-Handbook-Notes/blob/main/2.%20Data_manipulation_with_Pandas/1.%20Data_manipulation_with_Pandas.ipynb\" target=\"_parent\"><img src=\"https://colab.research.google.com/assets/colab-badge.svg\" alt=\"Open In Colab\"/></a>"
      ]
    },
    {
      "cell_type": "markdown",
      "source": [
        "# Data manipulation with Pandas 🐼"
      ],
      "metadata": {
        "id": "gFKww8QLJpEu"
      }
    },
    {
      "cell_type": "markdown",
      "source": [
        "Numpy provides an efficient storage and manipulation of dense arrays.\n",
        "\n",
        "Pandas is a newer package built on top of Numpy provides an effective implementation of DataFrame.\n",
        "\n",
        "Pandas has two objects\n",
        "1. Series\n",
        "2. DataFrame\n",
        "3. Index\n",
        "\n",
        "These build on Numpy array structure"
      ],
      "metadata": {
        "id": "k_i0zEjrJ1MX"
      }
    },
    {
      "cell_type": "markdown",
      "source": [
        "## Installing and using Pandas\n",
        "\n",
        "```\n",
        "import pandas as pd\n",
        "```\n",
        "Used to check version of pandas\n",
        "```\n",
        "pd.__version__\n",
        "```\n",
        "\n",
        "To display all the contents in the python namespace\n",
        "```\n",
        "pd.<TAB>\n",
        "```\n",
        "\n",
        "To look at the pandas' documentation\n",
        "```\n",
        "pd?\n",
        "```"
      ],
      "metadata": {
        "id": "eFKnGh_jKIvw"
      }
    }
  ]
}