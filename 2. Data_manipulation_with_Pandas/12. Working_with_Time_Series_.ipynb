{
  "nbformat": 4,
  "nbformat_minor": 0,
  "metadata": {
    "colab": {
      "provenance": [],
      "authorship_tag": "ABX9TyMl2jv6LdfybaRuXrCsLqeQ",
      "include_colab_link": true
    },
    "kernelspec": {
      "name": "python3",
      "display_name": "Python 3"
    },
    "language_info": {
      "name": "python"
    }
  },
  "cells": [
    {
      "cell_type": "markdown",
      "metadata": {
        "id": "view-in-github",
        "colab_type": "text"
      },
      "source": [
        "<a href=\"https://colab.research.google.com/github/Shuraimi/DataScience-Handbook-Notes/blob/main/2.%20Data_manipulation_with_Pandas/12.%20Working_with_Time_Series_.ipynb\" target=\"_parent\"><img src=\"https://colab.research.google.com/assets/colab-badge.svg\" alt=\"Open In Colab\"/></a>"
      ]
    },
    {
      "cell_type": "markdown",
      "source": [
        "# Working with Time Series"
      ],
      "metadata": {
        "id": "CjOaDjzD_dx2"
      }
    },
    {
      "cell_type": "markdown",
      "source": [
        "Pandas was developed in the context is financial modelling, therefore it sontains set of tools for working with dates, times and time indexed data.\n",
        "<br>\n",
        "Date and time comes in few flavours such as:-\n",
        "1. *Time stamps* reference particular moments in time\n",
        "2. *Time intervals* and *periods* reference a length of time between a start point and end point (eg the year 2015). *Periods* reference to special case of time intervals in which each interval is of uniform time interval and these don't overlap.(eg 24 hours log period comprising days)\n",
        "3. *Time deltas* or *durations* reference an exact length of time. (Eg duration of 22.34 seconds)"
      ],
      "metadata": {
        "id": "O5lI8_EMOFXM"
      }
    },
    {
      "cell_type": "markdown",
      "source": [
        "This is a short section and dies give a complete guide to time series in Pandas but as a broad overview of how you should start working with time series data in pandas"
      ],
      "metadata": {
        "id": "1Q-EH1FpPyuh"
      }
    },
    {
      "cell_type": "markdown",
      "source": [
        "##Date and Times in Pandas"
      ],
      "metadata": {
        "id": "La9gLKm2QtLc"
      }
    },
    {
      "cell_type": "markdown",
      "source": [
        "The python world has many representations of date, time, deltas and timespans but pandas has time series tools that are most useful for data scientists and it is also useful to see the relationship to other packages used in python."
      ],
      "metadata": {
        "id": "COeBm5-sQxU5"
      }
    },
    {
      "cell_type": "markdown",
      "source": [
        "### Native Python dates and times: `datetime` and `dateutil`"
      ],
      "metadata": {
        "id": "swyQe5n7RjLy"
      }
    },
    {
      "cell_type": "markdown",
      "source": [
        "Python's basic objects for working with date and time is available in the built-in `datetime` module. Among with the third party `dateutuil` module, we can perform a host of useful functionalities on dates and times.\n",
        "\n",
        "For example, manually constructing a date using `datetime` module."
      ],
      "metadata": {
        "id": "JxhvHhsDRr-J"
      }
    },
    {
      "cell_type": "code",
      "source": [
        "from datetime import datetime\n",
        "datetime(year=2023,month=7,day=6)"
      ],
      "metadata": {
        "id": "tiy-oNGbS5CZ",
        "colab": {
          "base_uri": "https://localhost:8080/"
        },
        "outputId": "6daa75cd-ffad-44cd-f8e2-a62063828ef5"
      },
      "execution_count": null,
      "outputs": [
        {
          "output_type": "execute_result",
          "data": {
            "text/plain": [
              "datetime.datetime(2023, 7, 6, 0, 0)"
            ]
          },
          "metadata": {},
          "execution_count": 1
        }
      ]
    },
    {
      "cell_type": "markdown",
      "source": [
        "Or by using the`dateutil` , we can parse a string to get dates"
      ],
      "metadata": {
        "id": "CbzExPE_TPuK"
      }
    },
    {
      "cell_type": "code",
      "source": [
        "from dateutil import parser\n",
        "date=parser.parse('15th August 1947')\n",
        "date"
      ],
      "metadata": {
        "colab": {
          "base_uri": "https://localhost:8080/"
        },
        "id": "BaHW_qwvTXWP",
        "outputId": "8453e27e-0921-4486-f688-124ab630e6a1"
      },
      "execution_count": null,
      "outputs": [
        {
          "output_type": "execute_result",
          "data": {
            "text/plain": [
              "datetime.datetime(1947, 8, 15, 0, 0)"
            ]
          },
          "metadata": {},
          "execution_count": 2
        }
      ]
    },
    {
      "cell_type": "markdown",
      "source": [
        "Once you have a `datetime`object, you can print the day of the week."
      ],
      "metadata": {
        "id": "CXAq5HXlTz5c"
      }
    },
    {
      "cell_type": "code",
      "source": [
        "\n",
        "#this is the standard code format for printing date\n",
        "date.strftime('%A')"
      ],
      "metadata": {
        "colab": {
          "base_uri": "https://localhost:8080/",
          "height": 35
        },
        "id": "g_-80Wp9UHrO",
        "outputId": "6eeff8e0-faf9-4131-d0d0-9fbda84d9fc2"
      },
      "execution_count": null,
      "outputs": [
        {
          "output_type": "execute_result",
          "data": {
            "text/plain": [
              "'Friday'"
            ],
            "application/vnd.google.colaboratory.intrinsic+json": {
              "type": "string"
            }
          },
          "metadata": {},
          "execution_count": 3
        }
      ]
    },
    {
      "cell_type": "markdown",
      "source": [
        "A related package is `pytz` for working with most migrane inducing pieces of time series data: time zones."
      ],
      "metadata": {
        "id": "y11Lxc8zUyKU"
      }
    },
    {
      "cell_type": "markdown",
      "source": [
        "The power of `datetime` and `dateutil` is it's easy syntax and flexibility and you can use its objects and their built-in methods to perform any operation you like on this time series data.\n",
        "\n",
        "Where they break is when we want to work with large arrays of dates and times.\n",
        "<br>\n",
        "Just as Python lists of numerical values are suboptimal (less than optimal) compared to Numpy styled typed numerical arrays, lists of python date time objects are suboptimal compared to typed arrays of encoded dates."
      ],
      "metadata": {
        "id": "X8z6762SVuc_"
      }
    },
    {
      "cell_type": "markdown",
      "source": [
        "### Typed arrays of times: Numpy's `datetime64`"
      ],
      "metadata": {
        "id": "y2Zdx3V2W9dd"
      }
    },
    {
      "cell_type": "markdown",
      "source": [
        " The weakness of Python's datetime format inspired Numpy's team to develop a native time series datatype to Numpy.\n",
        "The `datetime64` dtype encodes dates as a 64 bit integer and allows arrays of dates to be represented compactly."
      ],
      "metadata": {
        "id": "Ip-6y6onXT0d"
      }
    },
    {
      "cell_type": "markdown",
      "source": [
        "The `datetime64` requires dates to be given in a specific order."
      ],
      "metadata": {
        "id": "mBKxjUpYYZk0"
      }
    },
    {
      "cell_type": "code",
      "source": [
        "import numpy as np\n",
        "date=np.array('2023-06-04',dtype=np.datetime64)\n",
        "date"
      ],
      "metadata": {
        "colab": {
          "base_uri": "https://localhost:8080/"
        },
        "id": "Y7_qmebRYfhW",
        "outputId": "3919c335-28c0-4f14-c26f-26b52cf4a0a7"
      },
      "execution_count": null,
      "outputs": [
        {
          "output_type": "execute_result",
          "data": {
            "text/plain": [
              "array('2023-06-04', dtype='datetime64[D]')"
            ]
          },
          "metadata": {},
          "execution_count": 4
        }
      ]
    },
    {
      "cell_type": "markdown",
      "source": [
        "We can do vectorised operations on this formatted date."
      ],
      "metadata": {
        "id": "vBDv050RZCux"
      }
    },
    {
      "cell_type": "code",
      "source": [
        "date+np.arange(10)"
      ],
      "metadata": {
        "colab": {
          "base_uri": "https://localhost:8080/"
        },
        "id": "osA-74u4T83T",
        "outputId": "1cc67c25-922e-4ce5-fe21-73f50fa63b6d"
      },
      "execution_count": null,
      "outputs": [
        {
          "output_type": "execute_result",
          "data": {
            "text/plain": [
              "array(['2023-06-04', '2023-06-05', '2023-06-06', '2023-06-07',\n",
              "       '2023-06-08', '2023-06-09', '2023-06-10', '2023-06-11',\n",
              "       '2023-06-12', '2023-06-13'], dtype='datetime64[D]')"
            ]
          },
          "metadata": {},
          "execution_count": 5
        }
      ]
    },
    {
      "cell_type": "markdown",
      "source": [
        "Because of the uniform type in Numpy `datetime64` operations like these can be performed very quickly than with the standard `datetime` python object especially when array gets larger.\n",
        "\n",
        "One detail of the `datetime64` and `timedelta64` objects is that they are build on a *fundamental time unit*. The `datetime64` object is limited to a 64 bit precision, range of encodable times is $2^{64}$ times  the fundamental unit. In other words, the `datetime64` imposes a trade-off between *time resolution* and *maximum timespan*."
      ],
      "metadata": {
        "id": "sKYl7XPcZqPM"
      }
    },
    {
      "cell_type": "markdown",
      "source": [
        "For example, you want a time resolution of one nanosecond, you only have info to encode these range $2^{64}$ nanoseconds or just 600 years. Numpy will infer desired unit from input."
      ],
      "metadata": {
        "id": "0H9rb13QcRj5"
      }
    },
    {
      "cell_type": "code",
      "source": [
        "\n",
        "#day based time\n",
        "np.datetime64('2012-12-15')"
      ],
      "metadata": {
        "colab": {
          "base_uri": "https://localhost:8080/"
        },
        "id": "DpToC2PVdTqM",
        "outputId": "a5e12743-9301-4ca3-b604-b8559a222469"
      },
      "execution_count": null,
      "outputs": [
        {
          "output_type": "execute_result",
          "data": {
            "text/plain": [
              "numpy.datetime64('2012-12-15')"
            ]
          },
          "metadata": {},
          "execution_count": 6
        }
      ]
    },
    {
      "cell_type": "code",
      "source": [
        "#minute based time\n",
        "np.datetime64('2012-12-15 12:00')"
      ],
      "metadata": {
        "colab": {
          "base_uri": "https://localhost:8080/"
        },
        "id": "iYhAY-P9deIw",
        "outputId": "280dcbd0-41cb-4a7f-d27c-49201007f875"
      },
      "execution_count": null,
      "outputs": [
        {
          "output_type": "execute_result",
          "data": {
            "text/plain": [
              "numpy.datetime64('2012-12-15T12:00')"
            ]
          },
          "metadata": {},
          "execution_count": 7
        }
      ]
    },
    {
      "cell_type": "markdown",
      "source": [
        "The time zone is automatically set to your local machine executing the code.\n",
        "\n",
        "You can force any desired fundamental unit using one of the many format codes."
      ],
      "metadata": {
        "id": "F5fmbyVGds8o"
      }
    },
    {
      "cell_type": "code",
      "source": [
        "#nano second based time\n",
        "np.datetime64('2014-04-14 12:56:56.50','ns')"
      ],
      "metadata": {
        "colab": {
          "base_uri": "https://localhost:8080/"
        },
        "id": "MUZS51w6eFAD",
        "outputId": "44ca0726-960c-43be-f783-c43123731d11"
      },
      "execution_count": null,
      "outputs": [
        {
          "output_type": "execute_result",
          "data": {
            "text/plain": [
              "numpy.datetime64('2014-04-14T12:56:56.500000000')"
            ]
          },
          "metadata": {},
          "execution_count": 8
        }
      ]
    },
    {
      "cell_type": "markdown",
      "source": [
        "The following table gives the list of available format codes with relative and absolute timespans that they can encode."
      ],
      "metadata": {
        "id": "LhSnVmV_ebm9"
      }
    },
    {
      "cell_type": "markdown",
      "source": [
        "|Code  | Meaning     | Time span (relative) | Time span (absolute)   |\n",
        "|------|-------------|----------------------|------------------------|\n",
        "| `Y`  | Year        | ± 9.2e18 years       | [9.2e18 BC, 9.2e18 AD] |\n",
        "| `M`  | Month       | ± 7.6e17 years       | [7.6e17 BC, 7.6e17 AD] |\n",
        "| `W`  | Week        | ± 1.7e17 years       | [1.7e17 BC, 1.7e17 AD] |\n",
        "| `D`  | Day         | ± 2.5e16 years       | [2.5e16 BC, 2.5e16 AD] |\n",
        "| `h`  | Hour        | ± 1.0e15 years       | [1.0e15 BC, 1.0e15 AD] |\n",
        "| `m`  | Minute      | ± 1.7e13 years       | [1.7e13 BC, 1.7e13 AD] |\n",
        "| `s`  | Second      | ± 2.9e12 years       | [ 2.9e9 BC, 2.9e9 AD]  |\n",
        "| `ms` | Millisecond | ± 2.9e9 years        | [ 2.9e6 BC, 2.9e6 AD]  |\n",
        "| `us` | Microsecond | ± 2.9e6 years        | [290301 BC, 294241 AD] |\n",
        "| `ns` | Nanosecond  | ± 292 years          | [ 1678 AD, 2262 AD]    |\n",
        "| `ps` | Picosecond  | ± 106 days           | [ 1969 AD, 1970 AD]    |\n",
        "| `fs` | Femtosecond | ± 2.6 hours          | [ 1969 AD, 1970 AD]    |\n",
        "| `as` | Attosecond  | ± 9.2 seconds        | [ 1969 AD, 1970 AD]    |"
      ],
      "metadata": {
        "id": "9YqNcEvuep3q"
      }
    },
    {
      "cell_type": "markdown",
      "source": [
        "The `datetime64[ns]` is a useful default while working with real world dates as it can handle modem dates with suitably fine precision.\n",
        "\n",
        "Finally note that even though Numpy's `datetime64` data type addresses many deficiencies of the buil-in python `datetime` type, as it lacks many of the convinient methods provided by these `datetime`and `dateutil` module."
      ],
      "metadata": {
        "id": "TGLdrpq0lNGg"
      }
    },
    {
      "cell_type": "markdown",
      "source": [
        "### Date and times in Pandas: The best of both worlds"
      ],
      "metadata": {
        "id": "4nqV_KOOe0zb"
      }
    },
    {
      "cell_type": "markdown",
      "source": [
        "Pandas builds upon all the tools just discussed to provide a `Timestamp` object whic combines the ease of `datetime` and `dateutil` with efficient storage and vectorised interface of Numpy's `datetime64`.\n",
        "\n",
        "From a group of these`Timestamp` objects, pandas can create a `DatetimeIndex` that can be used to index data in a series or DataFrame.\n",
        "\n",
        "For example, we can demonstrate the previous examples of dates using Pandas tools. We parse a formatted string date and use format codes to get the day of the week."
      ],
      "metadata": {
        "id": "wDD4VtzNlaU6"
      }
    },
    {
      "cell_type": "code",
      "source": [
        "import pandas as pd\n",
        "date=pd.to_datetime('19th July 1920')\n",
        "date"
      ],
      "metadata": {
        "colab": {
          "base_uri": "https://localhost:8080/"
        },
        "id": "jagLIiWcoFqW",
        "outputId": "2ab1cb9a-c9fd-4d89-dabd-13f5040c1f08"
      },
      "execution_count": null,
      "outputs": [
        {
          "output_type": "execute_result",
          "data": {
            "text/plain": [
              "Timestamp('1920-07-19 00:00:00')"
            ]
          },
          "metadata": {},
          "execution_count": 9
        }
      ]
    },
    {
      "cell_type": "code",
      "source": [
        "date.strftime('%A')"
      ],
      "metadata": {
        "colab": {
          "base_uri": "https://localhost:8080/",
          "height": 35
        },
        "id": "sKPCAprxoajH",
        "outputId": "3dd4d254-3482-4363-cc53-8ad8dc768ba6"
      },
      "execution_count": null,
      "outputs": [
        {
          "output_type": "execute_result",
          "data": {
            "text/plain": [
              "'Monday'"
            ],
            "application/vnd.google.colaboratory.intrinsic+json": {
              "type": "string"
            }
          },
          "metadata": {},
          "execution_count": 10
        }
      ]
    },
    {
      "cell_type": "markdown",
      "source": [
        "We can also perform Numpy style vectorised operations like"
      ],
      "metadata": {
        "id": "-5VDu96-okTu"
      }
    },
    {
      "cell_type": "code",
      "source": [
        "date+pd.to_timedelta(np.arange(12))"
      ],
      "metadata": {
        "colab": {
          "base_uri": "https://localhost:8080/"
        },
        "id": "ybCeeZL-ooyA",
        "outputId": "1f482b5a-78ab-4ae8-a6a1-9a0412305a95"
      },
      "execution_count": null,
      "outputs": [
        {
          "output_type": "execute_result",
          "data": {
            "text/plain": [
              "DatetimeIndex([          '1920-07-19 00:00:00',\n",
              "               '1920-07-19 00:00:00.000000001',\n",
              "               '1920-07-19 00:00:00.000000002',\n",
              "               '1920-07-19 00:00:00.000000003',\n",
              "               '1920-07-19 00:00:00.000000004',\n",
              "               '1920-07-19 00:00:00.000000005',\n",
              "               '1920-07-19 00:00:00.000000006',\n",
              "               '1920-07-19 00:00:00.000000007',\n",
              "               '1920-07-19 00:00:00.000000008',\n",
              "               '1920-07-19 00:00:00.000000009',\n",
              "               '1920-07-19 00:00:00.000000010',\n",
              "               '1920-07-19 00:00:00.000000011'],\n",
              "              dtype='datetime64[ns]', freq=None)"
            ]
          },
          "metadata": {},
          "execution_count": 11
        }
      ]
    },
    {
      "cell_type": "markdown",
      "source": [
        "Later on we'll manipulate time series data with tools covered in"
      ],
      "metadata": {
        "id": "37SFdsYao01h"
      }
    },
    {
      "cell_type": "markdown",
      "source": [
        "## Pandas Time Series: Indexing by time"
      ],
      "metadata": {
        "id": "UzKxsLVy4dEB"
      }
    },
    {
      "cell_type": "markdown",
      "source": [
        "The Pandas time series tools become useful when we *index* data using *timestamps*.\n",
        "\n",
        "\n",
        "We can construct a Series which has time indexed data."
      ],
      "metadata": {
        "id": "OzennKrZ4oUp"
      }
    },
    {
      "cell_type": "code",
      "source": [
        "index=pd.DatetimeIndex(['2014-07-04', '2014-08-04',\n",
        "                          '2015-07-04', '2015-08-04'])\n",
        "data=pd.Series(np.arange(4),index=index)\n",
        "data"
      ],
      "metadata": {
        "colab": {
          "base_uri": "https://localhost:8080/"
        },
        "id": "rZNuEclTBJxu",
        "outputId": "d453a640-278a-47cd-96b6-ab05e6ff5d1f"
      },
      "execution_count": null,
      "outputs": [
        {
          "output_type": "execute_result",
          "data": {
            "text/plain": [
              "2014-07-04    0\n",
              "2014-08-04    1\n",
              "2015-07-04    2\n",
              "2015-08-04    3\n",
              "dtype: int64"
            ]
          },
          "metadata": {},
          "execution_count": 12
        }
      ]
    },
    {
      "cell_type": "markdown",
      "source": [
        "Now that we have a Series object, we can use Series indexing patterns."
      ],
      "metadata": {
        "id": "dzzkgR7hM63Z"
      }
    },
    {
      "cell_type": "code",
      "source": [
        "data['2014-07-04':'2015-07-04']"
      ],
      "metadata": {
        "colab": {
          "base_uri": "https://localhost:8080/"
        },
        "id": "pgE94AnVNCXO",
        "outputId": "1e062424-4051-4e89-9476-4c3b2538a3bd"
      },
      "execution_count": null,
      "outputs": [
        {
          "output_type": "execute_result",
          "data": {
            "text/plain": [
              "2014-07-04    0\n",
              "2014-08-04    1\n",
              "2015-07-04    2\n",
              "dtype: int64"
            ]
          },
          "metadata": {},
          "execution_count": 13
        }
      ]
    },
    {
      "cell_type": "markdown",
      "source": [
        "There are special date only indexing such as mentioned the year to get a slice of data."
      ],
      "metadata": {
        "id": "bmVc-uZ_NQjq"
      }
    },
    {
      "cell_type": "code",
      "source": [
        "data['2014']"
      ],
      "metadata": {
        "colab": {
          "base_uri": "https://localhost:8080/"
        },
        "id": "ntHH7gfHNX7q",
        "outputId": "64a222e0-b551-4464-deac-6ded3a00c78d"
      },
      "execution_count": null,
      "outputs": [
        {
          "output_type": "execute_result",
          "data": {
            "text/plain": [
              "2014-07-04    0\n",
              "2014-08-04    1\n",
              "dtype: int64"
            ]
          },
          "metadata": {},
          "execution_count": 14
        }
      ]
    },
    {
      "cell_type": "markdown",
      "source": [
        "Later we'll see how to use dates as index but now we'll look at the various data structures in time series."
      ],
      "metadata": {
        "id": "xtTcsn3NNo81"
      }
    },
    {
      "cell_type": "markdown",
      "source": [
        "## Pandas Time Series Data Structures"
      ],
      "metadata": {
        "id": "EYbJe2qmOFYK"
      }
    },
    {
      "cell_type": "markdown",
      "source": [
        "Now we'll look at the fundamental Pandas data structures for working with time series data:\n",
        "- For *timestamps* we have the Pandas `Timestamp` object which is essentially the replacement to Python's `datetime` and also provides vectorised interface like `numpy.datetime`. The associated `Index` is the `DatetimeIndex`.\n",
        "- For *timeperiods*, Pandas provides the `Period` type. This encodes a fixed frequency interval based on `numpy.datetime64`. The index structure is `PeriodIndex`.\n",
        "- For *timedeltas* and periods, Pandas provides `Timedelta` type. The `Timedelta` type is more efficient than the pythons native `datetime.timedelta` type and is based on `numpy.timedelta64`. The index structure is `TimedeltaIndex`."
      ],
      "metadata": {
        "id": "AGqmus83Ot_h"
      }
    },
    {
      "cell_type": "markdown",
      "source": [
        "The most fundamental of these are the `Timestamp` and `DatetimeIndex` objects. While these class objects can be invoked directly, it is more common to use the `pd.to_datetime` function which can pass a wide variety of formats.\n",
        "\n",
        "Passing a single date time to this function gives a `Timestamp` object and passing a series gives a `DatetimeIndex`"
      ],
      "metadata": {
        "id": "YM9MfwVxSjAA"
      }
    },
    {
      "cell_type": "code",
      "source": [
        "dates=pd.to_datetime([datetime(2015,7,3),'5th of March, 2018','17-06-2003','2019-Mar-8','20231218'])\n",
        "dates"
      ],
      "metadata": {
        "id": "eE3en67BUAkA",
        "colab": {
          "base_uri": "https://localhost:8080/"
        },
        "outputId": "64e543f6-b7dc-4aa4-ba07-f68e40ca5f83"
      },
      "execution_count": null,
      "outputs": [
        {
          "output_type": "stream",
          "name": "stderr",
          "text": [
            "<ipython-input-15-aca082a6e15d>:1: UserWarning: Parsing dates in DD/MM/YYYY format when dayfirst=False (the default) was specified. This may lead to inconsistently parsed dates! Specify a format to ensure consistent parsing.\n",
            "  dates=pd.to_datetime([datetime(2015,7,3),'5th of March, 2018','17-06-2003','2019-Mar-8','20231218'])\n"
          ]
        },
        {
          "output_type": "execute_result",
          "data": {
            "text/plain": [
              "DatetimeIndex(['2015-07-03', '2018-03-05', '2003-06-17', '2019-03-08',\n",
              "               '2023-12-18'],\n",
              "              dtype='datetime64[ns]', freq=None)"
            ]
          },
          "metadata": {},
          "execution_count": 15
        }
      ]
    },
    {
      "cell_type": "markdown",
      "source": [
        "Any `DatetimeIndex` can be covered to `PeriodIndex` using the `to_period()` function with the addition of a frequency code, here 'D' indicates daily frequency."
      ],
      "metadata": {
        "id": "vxvImLkKcGN8"
      }
    },
    {
      "cell_type": "code",
      "source": [
        "dates.to_period(freq='D')"
      ],
      "metadata": {
        "colab": {
          "base_uri": "https://localhost:8080/"
        },
        "id": "HKxCqP6dctYL",
        "outputId": "a544f893-fdd4-4b21-fea5-b70e390522c9"
      },
      "execution_count": null,
      "outputs": [
        {
          "output_type": "execute_result",
          "data": {
            "text/plain": [
              "PeriodIndex(['2015-07-03', '2018-03-05', '2003-06-17', '2019-03-08',\n",
              "             '2023-12-18'],\n",
              "            dtype='period[D]')"
            ]
          },
          "metadata": {},
          "execution_count": 16
        }
      ]
    },
    {
      "cell_type": "markdown",
      "source": [
        "The `TimedeltaIndex` is created when a date is subtracted from the other."
      ],
      "metadata": {
        "id": "4NArkXwbc6v_"
      }
    },
    {
      "cell_type": "code",
      "source": [
        "dates[1]- dates[0]"
      ],
      "metadata": {
        "colab": {
          "base_uri": "https://localhost:8080/"
        },
        "id": "Ejr7HLjzdFkb",
        "outputId": "faab4e27-9418-44f9-e3b8-3230ac78386d"
      },
      "execution_count": null,
      "outputs": [
        {
          "output_type": "execute_result",
          "data": {
            "text/plain": [
              "Timedelta('976 days 00:00:00')"
            ]
          },
          "metadata": {},
          "execution_count": 17
        }
      ]
    },
    {
      "cell_type": "markdown",
      "source": [
        "### Regular sequences:\n",
        "`pd.date_range()`"
      ],
      "metadata": {
        "id": "2DpUOc0ndcpu"
      }
    },
    {
      "cell_type": "markdown",
      "source": [
        "To make creation of regular date sequences convenient, Pandas offers a few functions like\n",
        "- `pd.date_range()` for timestamps\n",
        "- `pd.period_range()` for periods\n",
        "- `pd.timedelta_range()` for timedeltas\n",
        "\n",
        "We've seen that Python's `range`, Numpy's `np.arange()` have a starting point, ending point and an optional step parameter, this `pd.date_range()` takes a start date,end date and an optional frequency code to create regular sequence of dates. By default, frequency is one day."
      ],
      "metadata": {
        "id": "1WSwLJ9Edf8o"
      }
    },
    {
      "cell_type": "code",
      "source": [
        "daty=pd.date_range('2023-12-21','2023-12-31')\n",
        "daty"
      ],
      "metadata": {
        "colab": {
          "base_uri": "https://localhost:8080/"
        },
        "id": "z9xjabCDe8sS",
        "outputId": "c3e2c5e2-8e75-4ad0-adde-8e702f662a56"
      },
      "execution_count": null,
      "outputs": [
        {
          "output_type": "execute_result",
          "data": {
            "text/plain": [
              "DatetimeIndex(['2023-12-21', '2023-12-22', '2023-12-23', '2023-12-24',\n",
              "               '2023-12-25', '2023-12-26', '2023-12-27', '2023-12-28',\n",
              "               '2023-12-29', '2023-12-30', '2023-12-31'],\n",
              "              dtype='datetime64[ns]', freq='D')"
            ]
          },
          "metadata": {},
          "execution_count": 18
        }
      ]
    },
    {
      "cell_type": "markdown",
      "source": [
        "Instead of specifying the start and end date, we can specify the the start date and number of periods."
      ],
      "metadata": {
        "id": "IDino3IIfRT9"
      }
    },
    {
      "cell_type": "code",
      "source": [
        "d=pd.date_range('2024-06-12',periods=10)\n",
        "d"
      ],
      "metadata": {
        "colab": {
          "base_uri": "https://localhost:8080/"
        },
        "id": "fkWQsv4hfbr1",
        "outputId": "b44a5b8b-a3df-4334-eb91-c17138573079"
      },
      "execution_count": null,
      "outputs": [
        {
          "output_type": "execute_result",
          "data": {
            "text/plain": [
              "DatetimeIndex(['2024-06-12', '2024-06-13', '2024-06-14', '2024-06-15',\n",
              "               '2024-06-16', '2024-06-17', '2024-06-18', '2024-06-19',\n",
              "               '2024-06-20', '2024-06-21'],\n",
              "              dtype='datetime64[ns]', freq='D')"
            ]
          },
          "metadata": {},
          "execution_count": 19
        }
      ]
    },
    {
      "cell_type": "markdown",
      "source": [
        "The spacing is by default is daily('D') and can be altered by specifying the freq parameter.\n",
        "\n",
        "We can get hourly timestamps with `freq='H'`"
      ],
      "metadata": {
        "id": "Bc2V0a3ifvKJ"
      }
    },
    {
      "cell_type": "code",
      "source": [
        "s=pd.date_range('2012-04-14', periods=8,freq='H')\n",
        "s"
      ],
      "metadata": {
        "colab": {
          "base_uri": "https://localhost:8080/"
        },
        "id": "6twXpo3nf--O",
        "outputId": "a8a910fd-310b-47be-f89b-a7986da628b8"
      },
      "execution_count": null,
      "outputs": [
        {
          "output_type": "execute_result",
          "data": {
            "text/plain": [
              "DatetimeIndex(['2012-04-14 00:00:00', '2012-04-14 01:00:00',\n",
              "               '2012-04-14 02:00:00', '2012-04-14 03:00:00',\n",
              "               '2012-04-14 04:00:00', '2012-04-14 05:00:00',\n",
              "               '2012-04-14 06:00:00', '2012-04-14 07:00:00'],\n",
              "              dtype='datetime64[ns]', freq='H')"
            ]
          },
          "metadata": {},
          "execution_count": 20
        }
      ]
    },
    {
      "cell_type": "markdown",
      "source": [
        "`pd.period_range()` and `pd.timedelta_range()` can be used in the similar way to the `pd.date_range()`. Here are some monthly periods:"
      ],
      "metadata": {
        "id": "rg3_bX8mgjl2"
      }
    },
    {
      "cell_type": "code",
      "source": [
        "p=pd.period_range('2019-06-14',periods=7,freq='M')\n",
        "p"
      ],
      "metadata": {
        "colab": {
          "base_uri": "https://localhost:8080/"
        },
        "id": "4LtuMVAyg7Uy",
        "outputId": "55cbd623-4aa2-46da-a901-d2882a95bea9"
      },
      "execution_count": null,
      "outputs": [
        {
          "output_type": "execute_result",
          "data": {
            "text/plain": [
              "PeriodIndex(['2019-06', '2019-07', '2019-08', '2019-09', '2019-10', '2019-11',\n",
              "             '2019-12'],\n",
              "            dtype='period[M]')"
            ]
          },
          "metadata": {},
          "execution_count": 21
        }
      ]
    },
    {
      "cell_type": "markdown",
      "source": [
        "Sequence of durations increasing by an hour."
      ],
      "metadata": {
        "id": "YFiZLWVGhOTJ"
      }
    },
    {
      "cell_type": "code",
      "source": [
        "de=pd.timedelta_range(0,periods=6,freq='H')\n",
        "de"
      ],
      "metadata": {
        "colab": {
          "base_uri": "https://localhost:8080/"
        },
        "id": "vCXpINvfhRwM",
        "outputId": "ef4d2f08-51b8-405c-b281-085f42781e4a"
      },
      "execution_count": null,
      "outputs": [
        {
          "output_type": "execute_result",
          "data": {
            "text/plain": [
              "TimedeltaIndex(['0 days 00:00:00', '0 days 01:00:00', '0 days 02:00:00',\n",
              "                '0 days 03:00:00', '0 days 04:00:00', '0 days 05:00:00'],\n",
              "               dtype='timedelta64[ns]', freq='H')"
            ]
          },
          "metadata": {},
          "execution_count": 22
        }
      ]
    },
    {
      "cell_type": "markdown",
      "source": [
        "All these require description of Pandas frequency codes discussed next."
      ],
      "metadata": {
        "id": "TEHKUaGzhgOB"
      }
    },
    {
      "cell_type": "markdown",
      "source": [
        "## Frequencies and Offsets"
      ],
      "metadata": {
        "id": "1mcmYmg6h9R5"
      }
    },
    {
      "cell_type": "markdown",
      "source": [
        "Fundamental to Pandas Series tools is the frequency code or data offset. Just as we used the code D for day , H fir hour, below is the table which summarises the list of frequency codes."
      ],
      "metadata": {
        "id": "jtkgnbkwiXpt"
      }
    },
    {
      "cell_type": "markdown",
      "source": [
        "| Code | Description       | Code | Description          |\n",
        "|------|-------------------|------|----------------------|\n",
        "| `D`  | Calendar day      | `B`  | Business day         |\n",
        "| `W`  | Weekly            |      |                      |\n",
        "| `M`  | Month end         | `BM` | Business month end   |\n",
        "| `Q`  | Quarter end       | `BQ` | Business quarter end |\n",
        "| `A`  | Year end          | `BA` | Business year end    |\n",
        "| `H`  | Hours             | `BH` | Business hours       |\n",
        "| `T`  | Minutes           |      |                      |\n",
        "| `S`  | Seconds           |      |                      |\n",
        "| `L`  | Milliseconds       |      |                      |\n",
        "| `U`  | Microseconds      |      |                      |\n",
        "| `N`  | Nanoseconds       |      |                      |"
      ],
      "metadata": {
        "id": "WSLLWPyMiyeW"
      }
    },
    {
      "cell_type": "markdown",
      "source": [
        "The monthly, quarterly and annual frequencies are all marked at the end of the period. Adding a suffix `S` causes them to be marked at the beginning instead of the end."
      ],
      "metadata": {
        "id": "KONB-1yhizua"
      }
    },
    {
      "cell_type": "markdown",
      "source": [
        "| Code  | Description       | Code  | Description            |\n",
        "|-------|-------------------|-------|------------------------|\n",
        "| `MS`  | Month start       |`BMS`  | Business month start   |\n",
        "| `QS`  | Quarter start     |`BQS`  | Business quarter start |\n",
        "| `AS`  | Year start        |`BAS`  | Business year start    |"
      ],
      "metadata": {
        "id": "E7EE6Bq_jcpM"
      }
    },
    {
      "cell_type": "markdown",
      "source": [
        "Additionally, we can change the month used to denote the quarterly or annual by adding a three letter month as suffix\n",
        "- `Q-JAN` , `BQ-FEB`, `QS-MAR`,etc\n",
        "- `A-JAN`, `BA-MAR`,`QS-DEC',etc\n",
        "\n",
        "Similarly, the split point of week can be changed by using a three letter weekday code\n",
        "- `W-MON`,`W-SUM`,etc\n",
        "\n",
        "On top these, codes can be combined with number frequencies. Fri example, to get frequency of 2 hours and 30minutues"
      ],
      "metadata": {
        "id": "ZNWJh7CVjvHk"
      }
    },
    {
      "cell_type": "code",
      "source": [
        "f=pd.date_range('2014-05-14',periods=6,freq='2H30T')\n",
        "f"
      ],
      "metadata": {
        "colab": {
          "base_uri": "https://localhost:8080/"
        },
        "id": "ajaXOq1Nkyxn",
        "outputId": "1dacfb4b-8eb4-4431-c785-75b512d0db2f"
      },
      "execution_count": null,
      "outputs": [
        {
          "output_type": "execute_result",
          "data": {
            "text/plain": [
              "DatetimeIndex(['2014-05-14 00:00:00', '2014-05-14 02:30:00',\n",
              "               '2014-05-14 05:00:00', '2014-05-14 07:30:00',\n",
              "               '2014-05-14 10:00:00', '2014-05-14 12:30:00'],\n",
              "              dtype='datetime64[ns]', freq='150T')"
            ]
          },
          "metadata": {},
          "execution_count": 23
        }
      ]
    },
    {
      "cell_type": "markdown",
      "source": [
        "All of these short codes refer to specific instances of Period time series pd.offsets, which can be found in the `pd.tseries.offsets` module. For example, we can create a business day offset directly as follows"
      ],
      "metadata": {
        "id": "R-zQAA6llUNB"
      }
    },
    {
      "cell_type": "markdown",
      "source": [
        "## Resampling, Shifting and Windowing"
      ],
      "metadata": {
        "id": "NCT7mDHSD7cs"
      }
    },
    {
      "cell_type": "markdown",
      "source": [
        "The ability to use dates and times as indices to intuitively organise and access data is an important in Pandas time series tools. The benefits of these tools in general (automatic indentation during operations, data slicing etc) still apply and pandas provides several additional time series specific operations.\n",
        "\n",
        "We'll take a look at few of them using stock price data. Because Pandas was developed for financial context is has many financial specific tools.\n",
        "\n",
        "For example:- the `pandas-reader` package (installed using `conda install pandas-reader`) can import financial data from number of sources including Yahoo finance, Google finance etc.\n",
        "Here we'll use Google's closing price history."
      ],
      "metadata": {
        "id": "7g9mf8XwEWBF"
      }
    },
    {
      "cell_type": "code",
      "source": [
        "from pandas_datareader import data\n",
        "goog =data.DataReader('GOOG',start='2004',end='2016',data_source='google')\n",
        "goog.head()"
      ],
      "metadata": {
        "colab": {
          "base_uri": "https://localhost:8080/",
          "height": 671
        },
        "id": "9T2_8el8IEKG",
        "outputId": "10279d69-202e-4767-a5db-2c57fcaf516a"
      },
      "execution_count": null,
      "outputs": [
        {
          "output_type": "error",
          "ename": "NotImplementedError",
          "evalue": "ignored",
          "traceback": [
            "\u001b[0;31m---------------------------------------------------------------------------\u001b[0m",
            "\u001b[0;31mNotImplementedError\u001b[0m                       Traceback (most recent call last)",
            "\u001b[0;32m<ipython-input-28-9f76daa79cbb>\u001b[0m in \u001b[0;36m<cell line: 2>\u001b[0;34m()\u001b[0m\n\u001b[1;32m      1\u001b[0m \u001b[0;32mfrom\u001b[0m \u001b[0mpandas_datareader\u001b[0m \u001b[0;32mimport\u001b[0m \u001b[0mdata\u001b[0m\u001b[0;34m\u001b[0m\u001b[0;34m\u001b[0m\u001b[0m\n\u001b[0;32m----> 2\u001b[0;31m \u001b[0mgoog\u001b[0m \u001b[0;34m=\u001b[0m\u001b[0mdata\u001b[0m\u001b[0;34m.\u001b[0m\u001b[0mDataReader\u001b[0m\u001b[0;34m(\u001b[0m\u001b[0;34m'GOOG'\u001b[0m\u001b[0;34m,\u001b[0m\u001b[0mstart\u001b[0m\u001b[0;34m=\u001b[0m\u001b[0;34m'2004'\u001b[0m\u001b[0;34m,\u001b[0m\u001b[0mend\u001b[0m\u001b[0;34m=\u001b[0m\u001b[0;34m'2016'\u001b[0m\u001b[0;34m,\u001b[0m\u001b[0mdata_source\u001b[0m\u001b[0;34m=\u001b[0m\u001b[0;34m'google'\u001b[0m\u001b[0;34m)\u001b[0m\u001b[0;34m\u001b[0m\u001b[0;34m\u001b[0m\u001b[0m\n\u001b[0m\u001b[1;32m      3\u001b[0m \u001b[0mgoog\u001b[0m\u001b[0;34m.\u001b[0m\u001b[0mhead\u001b[0m\u001b[0;34m(\u001b[0m\u001b[0;34m)\u001b[0m\u001b[0;34m\u001b[0m\u001b[0;34m\u001b[0m\u001b[0m\n",
            "\u001b[0;32m/usr/local/lib/python3.10/dist-packages/pandas/util/_decorators.py\u001b[0m in \u001b[0;36mwrapper\u001b[0;34m(*args, **kwargs)\u001b[0m\n\u001b[1;32m    209\u001b[0m                 \u001b[0;32melse\u001b[0m\u001b[0;34m:\u001b[0m\u001b[0;34m\u001b[0m\u001b[0;34m\u001b[0m\u001b[0m\n\u001b[1;32m    210\u001b[0m                     \u001b[0mkwargs\u001b[0m\u001b[0;34m[\u001b[0m\u001b[0mnew_arg_name\u001b[0m\u001b[0;34m]\u001b[0m \u001b[0;34m=\u001b[0m \u001b[0mnew_arg_value\u001b[0m\u001b[0;34m\u001b[0m\u001b[0;34m\u001b[0m\u001b[0m\n\u001b[0;32m--> 211\u001b[0;31m             \u001b[0;32mreturn\u001b[0m \u001b[0mfunc\u001b[0m\u001b[0;34m(\u001b[0m\u001b[0;34m*\u001b[0m\u001b[0margs\u001b[0m\u001b[0;34m,\u001b[0m \u001b[0;34m**\u001b[0m\u001b[0mkwargs\u001b[0m\u001b[0;34m)\u001b[0m\u001b[0;34m\u001b[0m\u001b[0;34m\u001b[0m\u001b[0m\n\u001b[0m\u001b[1;32m    212\u001b[0m \u001b[0;34m\u001b[0m\u001b[0m\n\u001b[1;32m    213\u001b[0m         \u001b[0;32mreturn\u001b[0m \u001b[0mcast\u001b[0m\u001b[0;34m(\u001b[0m\u001b[0mF\u001b[0m\u001b[0;34m,\u001b[0m \u001b[0mwrapper\u001b[0m\u001b[0;34m)\u001b[0m\u001b[0;34m\u001b[0m\u001b[0;34m\u001b[0m\u001b[0m\n",
            "\u001b[0;32m/usr/local/lib/python3.10/dist-packages/pandas_datareader/data.py\u001b[0m in \u001b[0;36mDataReader\u001b[0;34m(name, data_source, start, end, retry_count, pause, session, api_key)\u001b[0m\n\u001b[1;32m    365\u001b[0m     \u001b[0;32mif\u001b[0m \u001b[0mdata_source\u001b[0m \u001b[0;32mnot\u001b[0m \u001b[0;32min\u001b[0m \u001b[0mexpected_source\u001b[0m\u001b[0;34m:\u001b[0m\u001b[0;34m\u001b[0m\u001b[0;34m\u001b[0m\u001b[0m\n\u001b[1;32m    366\u001b[0m         \u001b[0mmsg\u001b[0m \u001b[0;34m=\u001b[0m \u001b[0;34m\"data_source=%r is not implemented\"\u001b[0m \u001b[0;34m%\u001b[0m \u001b[0mdata_source\u001b[0m\u001b[0;34m\u001b[0m\u001b[0;34m\u001b[0m\u001b[0m\n\u001b[0;32m--> 367\u001b[0;31m         \u001b[0;32mraise\u001b[0m \u001b[0mNotImplementedError\u001b[0m\u001b[0;34m(\u001b[0m\u001b[0mmsg\u001b[0m\u001b[0;34m)\u001b[0m\u001b[0;34m\u001b[0m\u001b[0;34m\u001b[0m\u001b[0m\n\u001b[0m\u001b[1;32m    368\u001b[0m \u001b[0;34m\u001b[0m\u001b[0m\n\u001b[1;32m    369\u001b[0m     \u001b[0;32mif\u001b[0m \u001b[0mdata_source\u001b[0m \u001b[0;34m==\u001b[0m \u001b[0;34m\"yahoo\"\u001b[0m\u001b[0;34m:\u001b[0m\u001b[0;34m\u001b[0m\u001b[0;34m\u001b[0m\u001b[0m\n",
            "\u001b[0;31mNotImplementedError\u001b[0m: data_source='google' is not implemented"
          ]
        }
      ]
    }
  ]
}